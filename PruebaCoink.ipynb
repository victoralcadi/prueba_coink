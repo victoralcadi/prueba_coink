{
 "cells": [
  {
   "attachments": {},
   "cell_type": "markdown",
   "metadata": {},
   "source": [
    "# Prueba Coink - Cientifico de Datos\n",
    "En este Jupyter Notebook se desarrollan los 3 puntos de la prueba Coink para el cargo Cientifico de Datos con fecha de entrega domingo 19 de marzo 2023. Además del enunciado, para la realizar la prueba se necesitan dos datasets que estan contenidos en el folder resources. A continuación se cargan las librerias usadas en este notebook."
   ]
  },
  {
   "cell_type": "code",
   "execution_count": 1,
   "metadata": {},
   "outputs": [],
   "source": [
    "import pandas as pd"
   ]
  },
  {
   "attachments": {},
   "cell_type": "markdown",
   "metadata": {},
   "source": [
    "### Punto 1\n",
    "En este punto piden evaluar que tan buenos son los usuarios de Coink y calificar a los usuarios contenidos en la muestra depositos_oink.csv. Lo primero es cargar los datos para hacer una primera exploración"
   ]
  },
  {
   "cell_type": "code",
   "execution_count": 14,
   "metadata": {},
   "outputs": [
    {
     "data": {
      "text/html": [
       "<div>\n",
       "<style scoped>\n",
       "    .dataframe tbody tr th:only-of-type {\n",
       "        vertical-align: middle;\n",
       "    }\n",
       "\n",
       "    .dataframe tbody tr th {\n",
       "        vertical-align: top;\n",
       "    }\n",
       "\n",
       "    .dataframe thead th {\n",
       "        text-align: right;\n",
       "    }\n",
       "</style>\n",
       "<table border=\"1\" class=\"dataframe\">\n",
       "  <thead>\n",
       "    <tr style=\"text-align: right;\">\n",
       "      <th></th>\n",
       "      <th>user_id</th>\n",
       "      <th>operation_value</th>\n",
       "      <th>operation_date</th>\n",
       "      <th>maplocation_name</th>\n",
       "      <th>user_createddate</th>\n",
       "    </tr>\n",
       "  </thead>\n",
       "  <tbody>\n",
       "    <tr>\n",
       "      <th>0</th>\n",
       "      <td>0e52d550-ae23-407a-9b1f-6e5fb1f066ab</td>\n",
       "      <td>273850.0</td>\n",
       "      <td>2022-01-14 13:07:56</td>\n",
       "      <td>CC Plaza de las Américas  - Plaza Mariposa</td>\n",
       "      <td>2022-01-09 19:23:18.332689</td>\n",
       "    </tr>\n",
       "    <tr>\n",
       "      <th>1</th>\n",
       "      <td>975ed41e-d891-4c23-aeba-06363019d8e3</td>\n",
       "      <td>900.0</td>\n",
       "      <td>2022-02-06 13:11:25</td>\n",
       "      <td>CC Plaza de las Américas  - Plaza Mariposa</td>\n",
       "      <td>2022-01-10 15:19:29.419075</td>\n",
       "    </tr>\n",
       "    <tr>\n",
       "      <th>2</th>\n",
       "      <td>f9043545-dfc2-402f-a8c7-0a61f21cb719</td>\n",
       "      <td>1800.0</td>\n",
       "      <td>2022-02-23 14:01:56</td>\n",
       "      <td>Universidad de los Andes - ML Piso 5</td>\n",
       "      <td>2021-08-25 12:44:48.524941</td>\n",
       "    </tr>\n",
       "  </tbody>\n",
       "</table>\n",
       "</div>"
      ],
      "text/plain": [
       "                                user_id  operation_value      operation_date  \\\n",
       "0  0e52d550-ae23-407a-9b1f-6e5fb1f066ab         273850.0 2022-01-14 13:07:56   \n",
       "1  975ed41e-d891-4c23-aeba-06363019d8e3            900.0 2022-02-06 13:11:25   \n",
       "2  f9043545-dfc2-402f-a8c7-0a61f21cb719           1800.0 2022-02-23 14:01:56   \n",
       "\n",
       "                             maplocation_name           user_createddate  \n",
       "0  CC Plaza de las Américas  - Plaza Mariposa 2022-01-09 19:23:18.332689  \n",
       "1  CC Plaza de las Américas  - Plaza Mariposa 2022-01-10 15:19:29.419075  \n",
       "2        Universidad de los Andes - ML Piso 5 2021-08-25 12:44:48.524941  "
      ]
     },
     "execution_count": 14,
     "metadata": {},
     "output_type": "execute_result"
    }
   ],
   "source": [
    "# Lee el .csv de resources. La primera columna (Unnamed: 0) son indices\n",
    "depositos_oink_df = pd.read_csv(\"resources\\depositos_oinks.csv\", index_col = 'Unnamed: 0')\n",
    "\n",
    "# Cast columnas que incluyen fechas a datetime\n",
    "depositos_oink_df[['operation_date', 'user_createddate']] = \\\n",
    "    depositos_oink_df[['operation_date', 'user_createddate']].apply(lambda x: pd.to_datetime(x))\n",
    "\n",
    "depositos_oink_df.head(3)"
   ]
  },
  {
   "attachments": {},
   "cell_type": "markdown",
   "metadata": {},
   "source": [
    "Después de un breve análisis, la métrica para calificar usuarios (user_score) propuesta se describe a continuación.\n",
    "\n",
    "$$user score = 0.5C_{monto}+0.5C_{recurrencia}$$\n",
    "$user score$ es la suma de dos coeficientes que miden aspectos distintos en la importancia del usuario. Por un lado $C_{recurrencia}$ cuantifica la recurrencia con la que la persona hace depositos. Adicional, $C_{monto}$ cuantifica el tamaño de los depositos."
   ]
  },
  {
   "attachments": {},
   "cell_type": "markdown",
   "metadata": {},
   "source": [
    "Específicamente, $C_{recurrencia}$ se define como el tiempo promedio entre cada operación. La idea es que entre menor sea el tiempo promedio entre transacciones el usuario puntua más alto. Adicionalmente, se divide dicho promedio entre el tiempo de creación de la cuenta más vieja de la muestra. La división se hace para que $C_{recurrencia}$ quede en numeros adimensionales y se prioricen las personas más antiguas en caso de tiempos promedios entre transacciones similares.\n",
    "\n",
    "Para estimar $C_{monto}$, simplemente se divide el monto total transferido por el usuario entre el mayor monto total entre todos los usuarios. Esto se hace para que el coeficiente quede en valores adimensionales y se le asigne un puntaje más alto a los que tienen más dinero transferido.\n",
    "\n",
    "Por último, el 0.5 al lado de cada coeficiente es el peso. Para esta prueba se le da el mismo peso a ambos. Adicional, esto nos garantiza que $0<user score<=1$, siempre y cuando la suma de los pesos sea 1, ya que los coeficientes ya cumplen esta desigualdad"
   ]
  },
  {
   "attachments": {},
   "cell_type": "markdown",
   "metadata": {},
   "source": [
    "##### Calculo $C_{recurrencia}$\n",
    "A continuación se calcula el $C_{recurrencia}$ de cada usuario. Este está definido como:\n",
    "$$\n",
    "C_{recurrencia}=1-\\frac{\\hat{\\Delta t}}{Tiempo\\ de\\ creación\\ usuario}\n",
    "$$\n",
    "Donde $\\hat{\\Delta t}$ es el tiempo promedio entre transacciones que se puede calcular como\n",
    "$$\n",
    "\\hat{\\Delta t}=\\frac{(t_1-t_2)+(t_2-t_3)+...+(t_{n-1}-t_n)}{número\\ de\\ transacciones}=\\frac{t_1-t_n}{número\\ de\\ transacciones}\n",
    "$$\n",
    "Donde $t_i$ es la fecha de la transacción $i$"
   ]
  },
  {
   "cell_type": "code",
   "execution_count": null,
   "metadata": {},
   "outputs": [],
   "source": []
  },
  {
   "cell_type": "code",
   "execution_count": 18,
   "metadata": {},
   "outputs": [
    {
     "name": "stdout",
     "output_type": "stream",
     "text": [
      "1656\n",
      "4345\n"
     ]
    }
   ],
   "source": [
    "print(len(depositos_oink_df['user_id'].unique()))\n",
    "print(len(depositos_oink_df['user_id']))"
   ]
  }
 ],
 "metadata": {
  "kernelspec": {
   "display_name": "Python 3",
   "language": "python",
   "name": "python3"
  },
  "language_info": {
   "codemirror_mode": {
    "name": "ipython",
    "version": 3
   },
   "file_extension": ".py",
   "mimetype": "text/x-python",
   "name": "python",
   "nbconvert_exporter": "python",
   "pygments_lexer": "ipython3",
   "version": "3.10.10"
  },
  "orig_nbformat": 4
 },
 "nbformat": 4,
 "nbformat_minor": 2
}
